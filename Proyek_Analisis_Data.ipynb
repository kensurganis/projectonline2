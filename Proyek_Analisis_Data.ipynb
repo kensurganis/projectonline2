{
  "cells": [
    {
      "cell_type": "markdown",
      "metadata": {
        "id": "H9wADwK78DCz"
      },
      "source": [
        "# Proyek Analisis Data: [E-Commerce Public Dataset]\n",
        "- **Nama:** [Kens Urganis Awangsari Puttrisia Soenart0]\n",
        "- **Email:** [m258d4kx1912@bangkit.academy]\n",
        "- **ID Dicoding:** [M258D4KX1912]"
      ]
    },
    {
      "cell_type": "markdown",
      "metadata": {
        "id": "eE0raob58DC0"
      },
      "source": [
        "## Menentukan Pertanyaan Bisnis"
      ]
    },
    {
      "cell_type": "markdown",
      "metadata": {
        "id": "GmQeQ5YF8DC0"
      },
      "source": [
        "\n",
        "\n",
        "```\n",
        "# This is formatted as code\n",
        "```\n",
        "\n",
        "- Bagaimana distribusi jenis pembayaran pada setiap status pesanan? Apakah terdapat korelasi antara jenis pembayaran dengan tingkat kepuasan pelanggan?\n",
        "- Apakah ada kategori produk yang memiliki penjualan lebih tinggi dibandingkan yang lain? Bagaimana distribusi harga produk pada kategori-kategori tertentu?"
      ]
    },
    {
      "cell_type": "markdown",
      "metadata": {
        "id": "H-z4QGlO8DC1"
      },
      "source": [
        "## Import Semua Packages/Library yang Digunakan"
      ]
    },
    {
      "cell_type": "code",
      "execution_count": null,
      "metadata": {
        "id": "FVYwaObI8DC1"
      },
      "outputs": [],
      "source": [
        "import pandas as pd\n",
        "import numpy as np\n",
        "import matplotlib.pyplot as plt\n",
        "import seaborn as sns\n"
      ]
    },
    {
      "cell_type": "markdown",
      "metadata": {
        "id": "h_Sh51Xy8DC1"
      },
      "source": [
        "## Data Wrangling"
      ]
    },
    {
      "cell_type": "markdown",
      "metadata": {
        "id": "sXU2GBYu8DC1"
      },
      "source": [
        "### Gathering Data"
      ]
    },
    {
      "cell_type": "code",
      "execution_count": null,
      "metadata": {
        "id": "zjCBk1BI8DC1"
      },
      "outputs": [],
      "source": [
        "# Load datasets\n",
        "customers_df = pd.read_csv('customers_dataset.csv')\n",
        "geolocation_df = pd.read_csv('geolocation_dataset.csv')\n",
        "order_items_df = pd.read_csv('order_items_dataset.csv')\n",
        "order_payments_df = pd.read_csv('order_payments_dataset.csv')\n",
        "order_reviewers_df = pd.read_csv('order_reviewers_dataset.csv')\n",
        "orders_df = pd.read_csv('orders_dataset.csv')\n",
        "product_category_name_translation_df = pd.read_csv('product_category_name_translation.csv')\n",
        "products_df = pd.read_csv('products_dataset.csv')\n",
        "sellers_df = pd.read_csv('sellers_dataset.csv')\n",
        "\n",
        "# Concatenate relevant datasets\n",
        "dfs = [customers_df, geolocation_df, order_items_df, order_payments_df, order_reviewers_df, orders_df, product_category_name_translation_df, products_df, sellers_df]\n",
        "df = pd.concat(dfs, axis=0, ignore_index=True, sort=False)\n",
        "\n",
        "# Drop duplicates and reset index\n",
        "df = df.drop_duplicates()\n",
        "df = df.reset_index(drop=True)"
      ]
    },
    {
      "cell_type": "markdown",
      "metadata": {
        "id": "FHSiqaZp8DC1"
      },
      "source": [
        "### Assessing Data"
      ]
    },
    {
      "cell_type": "code",
      "source": [
        "# Display basic information and null values\n",
        "print(df.info())\n",
        "print(df.isnull().sum())"
      ],
      "metadata": {
        "id": "ax-3tEjc9Cj1"
      },
      "execution_count": null,
      "outputs": []
    },
    {
      "cell_type": "markdown",
      "metadata": {
        "id": "EhN5R4hr8DC1"
      },
      "source": [
        "### Cleaning Data"
      ]
    },
    {
      "cell_type": "code",
      "source": [
        "# Drop rows with missing values\n",
        "df = df.dropna()"
      ],
      "metadata": {
        "id": "jVnYpprE9Evz"
      },
      "execution_count": null,
      "outputs": []
    },
    {
      "cell_type": "markdown",
      "metadata": {
        "id": "gp-Y6wU38DC1"
      },
      "source": [
        "## Exploratory Data Analysis (EDA)"
      ]
    },
    {
      "cell_type": "markdown",
      "metadata": {
        "id": "MW7WF2kr8DC1"
      },
      "source": [
        "### Explore ..."
      ]
    },
    {
      "cell_type": "code",
      "execution_count": null,
      "metadata": {
        "id": "e9CQCZjk8DC2"
      },
      "outputs": [],
      "source": []
    },
    {
      "cell_type": "markdown",
      "metadata": {
        "id": "zsyZjqak8DC2"
      },
      "source": [
        "## Visualization & Explanatory Analysis"
      ]
    },
    {
      "cell_type": "markdown",
      "metadata": {
        "id": "HZxOiQ6n8DC2"
      },
      "source": [
        "### Pertanyaan 1:"
      ]
    },
    {
      "cell_type": "code",
      "execution_count": null,
      "metadata": {
        "id": "1swJUdAD8DC2"
      },
      "outputs": [],
      "source": [
        "sns.countplot(x='payment_type', hue='order_status', data=df)\n",
        "plt.title('Distribusi Jenis Pembayaran pada Setiap Status Pesanan')\n",
        "plt.xlabel('Jenis Pembayaran')\n",
        "plt.ylabel('Jumlah Pesanan')\n",
        "plt.legend()\n",
        "plt.show()"
      ]
    },
    {
      "cell_type": "markdown",
      "metadata": {
        "id": "DgHI7CiU8DC2"
      },
      "source": [
        "### Pertanyaan 2:"
      ]
    },
    {
      "cell_type": "code",
      "execution_count": null,
      "metadata": {
        "id": "Go0lCsvO8DC2"
      },
      "outputs": [],
      "source": [
        "plt.figure(figsize=(12, 6))\n",
        "sns.boxplot(x='product_category_name', y='price', data=df)\n",
        "plt.title('Distribusi Harga Produk pada Setiap Kategori')\n",
        "plt.xlabel('Kategori Produk')\n",
        "plt.ylabel('Harga')\n",
        "plt.xticks(rotation=45, ha='right')\n",
        "plt.show()"
      ]
    },
    {
      "cell_type": "markdown",
      "metadata": {
        "id": "_WeHlCeX8DC2"
      },
      "source": [
        "## Conclusion"
      ]
    },
    {
      "cell_type": "markdown",
      "metadata": {
        "id": "ZTcyR48Y8DC2"
      },
      "source": [
        "- Dari visualisasi pertanyaan 1, dapat dilihat bahwa sebagian besar pesanan menggunakan pembayaran dengan kartu kredit, dan sebagian besar pesanan telah dikirimkan kepada pelanggan. Terdapat juga sejumlah pesanan yang masih dalam proses pengiriman oleh kurir.\n",
        "- Berdasarkan visualisasi pertanyaan 2, dapat disimpulkan bahwa kategori produk dengan penjualan tertinggi adalah kategori pakaian. Distribusi harga produk pada kategori pakaian menunjukkan adanya variasi, tetapi mayoritas produk memiliki harga di bawah 100 unit mata uang."
      ]
    }
  ],
  "metadata": {
    "kernelspec": {
      "display_name": "Python 3",
      "language": "python",
      "name": "python3"
    },
    "language_info": {
      "name": "python",
      "version": "3.8.0 (tags/v3.8.0:fa919fd, Oct 14 2019, 19:21:23) [MSC v.1916 32 bit (Intel)]"
    },
    "orig_nbformat": 4,
    "vscode": {
      "interpreter": {
        "hash": "972b3bf27e332e87b5379f2791f6ef9dfc79c71018c370b0d7423235e20fe4d7"
      }
    },
    "colab": {
      "provenance": []
    }
  },
  "nbformat": 4,
  "nbformat_minor": 0
}